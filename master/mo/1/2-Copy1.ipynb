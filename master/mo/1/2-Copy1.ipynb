{
 "cells": [
  {
   "cell_type": "code",
   "execution_count": 2,
   "metadata": {},
   "outputs": [],
   "source": [
    "import numpy as np\n",
    "import itertools\n",
    "import hashlib"
   ]
  },
  {
   "cell_type": "code",
   "execution_count": 3,
   "metadata": {},
   "outputs": [],
   "source": [
    "def read_data(n, k):\n",
    "    chs = np.zeros((k, n), dtype=np.int8)\n",
    "    rsps = np.zeros(k, dtype=np.int8)\n",
    "    \n",
    "    with open('data/raw/Base{}.txt'.format(n), 'r') as f:\n",
    "        for i, line in enumerate(itertools.islice(f, k)):\n",
    "            ch, rsp = line.split(' ')\n",
    "            for j, e in enumerate(ch):\n",
    "                chs[i, j] = int(e)\n",
    "            rsps[i] = int(rsp)\n",
    "            \n",
    "    return chs, rsps\n",
    "\n",
    "def to_signed(x):\n",
    "    p = np.zeros_like(x, dtype=np.int8)\n",
    "    x = 1 - 2 * x\n",
    "    \n",
    "    p[0] = x[0]\n",
    "    for i in range(1, len(x)):\n",
    "        p[i] = p[i - 1] * x[i]\n",
    "    return p"
   ]
  },
  {
   "cell_type": "code",
   "execution_count": null,
   "metadata": {},
   "outputs": [],
   "source": []
  },
  {
   "cell_type": "code",
   "execution_count": 4,
   "metadata": {},
   "outputs": [],
   "source": [
    "data = {\n",
    "    \"raw\": {},\n",
    "    \"signed\": {},\n",
    "}"
   ]
  },
  {
   "cell_type": "code",
   "execution_count": null,
   "metadata": {
    "scrolled": false
   },
   "outputs": [
    {
     "name": "stdout",
     "output_type": "stream",
     "text": [
      "8\n",
      "16\n",
      "24\n",
      "32\n",
      "40\n",
      "48\n",
      "56\n",
      "64\n",
      "72\n",
      "80\n",
      "88\n",
      "96\n",
      "104\n",
      "112\n",
      "120\n"
     ]
    }
   ],
   "source": [
    "for n in range(8, 129, 8):\n",
    "    data['raw'][n] = read_data(n, 10 ** 6)\n",
    "    print(n)"
   ]
  },
  {
   "cell_type": "code",
   "execution_count": null,
   "metadata": {
    "scrolled": true
   },
   "outputs": [],
   "source": [
    "for n in range(8, 129, 8):\n",
    "    x, y = data['raw'][n]\n",
    "    data['signed'][n] = ([to_signed(e) for e in x], y)\n",
    "    print(n)"
   ]
  },
  {
   "cell_type": "code",
   "execution_count": 25,
   "metadata": {},
   "outputs": [],
   "source": []
  },
  {
   "cell_type": "code",
   "execution_count": 14,
   "metadata": {
    "scrolled": true
   },
   "outputs": [],
   "source": [
    "from sklearn.metrics import confusion_matrix, accuracy_score\n",
    "from sklearn.model_selection import train_test_split\n",
    "\n",
    "from sklearn.linear_model import LogisticRegression\n",
    "from sklearn.ensemble import GradientBoostingClassifier\n",
    "from sklearn.svm import SVC\n",
    "\n",
    "def train_model_1(model, x_train, x_test, y_train, y_test):\n",
    "    accuracy = {}\n",
    "    \n",
    "    nn = np.log2(len(x_train))\n",
    "    nn = [int(2 ** n) for n in np.arange(4, int(nn) + 1.5, 0.8)]\n",
    "    for n in nn:\n",
    "        m = model()\n",
    "        m.fit(x_train[:n], y_train[:n])\n",
    "\n",
    "        y_pred = m.predict(x_test)\n",
    "        accuracy[n] = accuracy_score(y_test, y_pred)\n",
    "        print(n)\n",
    "        \n",
    "    return accuracy"
   ]
  },
  {
   "cell_type": "code",
   "execution_count": 15,
   "metadata": {},
   "outputs": [],
   "source": [
    "from collections import defaultdict\n",
    "\n",
    "models = defaultdict(dict)"
   ]
  },
  {
   "cell_type": "code",
   "execution_count": 24,
   "metadata": {},
   "outputs": [],
   "source": [
    "x, y = data['signed'][128]\n",
    "x_train, x_test, y_train, y_test = train_test_split(x, y, test_size=0.9)"
   ]
  },
  {
   "cell_type": "code",
   "execution_count": 25,
   "metadata": {},
   "outputs": [
    {
     "name": "stdout",
     "output_type": "stream",
     "text": [
      "16\n",
      "27\n",
      "48\n",
      "84\n",
      "147\n",
      "255\n",
      "445\n",
      "776\n",
      "1351\n",
      "2352\n",
      "4095\n",
      "7131\n",
      "12416\n",
      "21618\n",
      "37640\n",
      "65535\n",
      "114104\n"
     ]
    }
   ],
   "source": [
    "models[64][\"Logistic Regiression\"] = train_model_1(LogisticRegression, x_train, x_test, y_train, y_test)"
   ]
  },
  {
   "cell_type": "code",
   "execution_count": 19,
   "metadata": {},
   "outputs": [
    {
     "name": "stdout",
     "output_type": "stream",
     "text": [
      "16\n",
      "27\n",
      "48\n",
      "84\n",
      "147\n",
      "255\n",
      "445\n",
      "776\n",
      "1351\n",
      "2352\n",
      "4095\n",
      "7131\n",
      "12416\n",
      "21618\n",
      "37640\n",
      "65535\n",
      "114104\n"
     ]
    }
   ],
   "source": [
    "models[64][\"SVM\"] = train_model_1(SVC, x_train, x_test, y_train, y_test)"
   ]
  },
  {
   "cell_type": "code",
   "execution_count": null,
   "metadata": {},
   "outputs": [
    {
     "name": "stdout",
     "output_type": "stream",
     "text": [
      "16\n",
      "27\n",
      "48\n",
      "84\n",
      "147\n",
      "255\n",
      "445\n",
      "776\n",
      "1351\n",
      "2352\n",
      "4095\n",
      "7131\n",
      "12416\n"
     ]
    }
   ],
   "source": [
    "models[64][\"Gradient Boosting\"] = train_model_1(GradientBoostingClassifier, x_train, x_test, y_train, y_test)"
   ]
  },
  {
   "cell_type": "code",
   "execution_count": 6,
   "metadata": {},
   "outputs": [
    {
     "ename": "NameError",
     "evalue": "name 'models' is not defined",
     "output_type": "error",
     "traceback": [
      "\u001b[0;31m---------------------------------------------------------------------------\u001b[0m",
      "\u001b[0;31mNameError\u001b[0m                                 Traceback (most recent call last)",
      "\u001b[0;32m<ipython-input-6-621dddb12913>\u001b[0m in \u001b[0;36m<module>\u001b[0;34m\u001b[0m\n\u001b[1;32m     17\u001b[0m \u001b[0max\u001b[0m\u001b[0;34m.\u001b[0m\u001b[0maxhline\u001b[0m\u001b[0;34m(\u001b[0m\u001b[0;36m1\u001b[0m\u001b[0;34m,\u001b[0m \u001b[0mls\u001b[0m\u001b[0;34m=\u001b[0m\u001b[0;34m'--'\u001b[0m\u001b[0;34m,\u001b[0m \u001b[0mcolor\u001b[0m\u001b[0;34m=\u001b[0m\u001b[0;34m'brown'\u001b[0m\u001b[0;34m,\u001b[0m \u001b[0mlinewidth\u001b[0m\u001b[0;34m=\u001b[0m\u001b[0;36m2\u001b[0m\u001b[0;34m,\u001b[0m \u001b[0malpha\u001b[0m\u001b[0;34m=\u001b[0m\u001b[0;36m0.5\u001b[0m\u001b[0;34m)\u001b[0m\u001b[0;34m\u001b[0m\u001b[0m\n\u001b[1;32m     18\u001b[0m \u001b[0;34m\u001b[0m\u001b[0m\n\u001b[0;32m---> 19\u001b[0;31m \u001b[0;32mfor\u001b[0m \u001b[0;34m(\u001b[0m\u001b[0mmodel_name\u001b[0m\u001b[0;34m,\u001b[0m \u001b[0mresult\u001b[0m\u001b[0;34m)\u001b[0m\u001b[0;34m,\u001b[0m \u001b[0mmarker\u001b[0m \u001b[0;32min\u001b[0m \u001b[0mzip\u001b[0m\u001b[0;34m(\u001b[0m\u001b[0mmodels\u001b[0m\u001b[0;34m[\u001b[0m\u001b[0;36m64\u001b[0m\u001b[0;34m]\u001b[0m\u001b[0;34m.\u001b[0m\u001b[0mitems\u001b[0m\u001b[0;34m(\u001b[0m\u001b[0;34m)\u001b[0m\u001b[0;34m,\u001b[0m \u001b[0;34m[\u001b[0m\u001b[0;34m'o'\u001b[0m\u001b[0;34m,\u001b[0m \u001b[0;34m's'\u001b[0m\u001b[0;34m,\u001b[0m \u001b[0;34m'^'\u001b[0m\u001b[0;34m]\u001b[0m\u001b[0;34m)\u001b[0m\u001b[0;34m:\u001b[0m\u001b[0;34m\u001b[0m\u001b[0m\n\u001b[0m\u001b[1;32m     20\u001b[0m     ax.plot(\n\u001b[1;32m     21\u001b[0m         \u001b[0mresult\u001b[0m\u001b[0;34m.\u001b[0m\u001b[0mkeys\u001b[0m\u001b[0;34m(\u001b[0m\u001b[0;34m)\u001b[0m\u001b[0;34m,\u001b[0m\u001b[0;34m\u001b[0m\u001b[0m\n",
      "\u001b[0;31mNameError\u001b[0m: name 'models' is not defined"
     ]
    },
    {
     "data": {
      "image/png": "[encoded data removed]",
      "text/plain": [
       "<Figure size 1080x576 with 1 Axes>"
      ]
     },
     "metadata": {},
     "output_type": "display_data"
    }
   ],
   "source": [
    "import matplotlib\n",
    "from matplotlib import pyplot as plt\n",
    "\n",
    "%matplotlib inline\n",
    "\n",
    "plt.rcParams['font.size'] = 15\n",
    "plt.rcParams['font.weight'] = 100\n",
    "\n",
    "fig, ax = plt.subplots()\n",
    "fig.set_size_inches(15, 8)\n",
    "\n",
    "ax.set(xlabel='Training Set Size', ylabel='Accuracy')\n",
    "ax.set_xscale('log')\n",
    "ax.set_yticks(np.arange(0.5, 1.04, 0.05))\n",
    "\n",
    "ax.axhline(0.95, ls='--', color='purple', linewidth=2, alpha=0.5)\n",
    "ax.axhline(1, ls='--', color='brown', linewidth=2, alpha=0.5)\n",
    "\n",
    "for (model_name, result), marker in zip(models[64].items(), ['o', 's', '^']):\n",
    "    ax.plot(\n",
    "        result.keys(), \n",
    "        result.values(), \n",
    "        '-{}'.format(marker), \n",
    "        markersize=10,\n",
    "        label=model_name, \n",
    "        linewidth=2\n",
    "    )\n",
    "    ax.set_xticks(list(result.keys())[::2])\n",
    "    ax.set_xticklabels(list(result.keys())[::2])\n",
    "\n",
    "ax.grid()\n",
    "ax.legend(loc='lower center')\n",
    "plt.show()"
   ]
  },
  {
   "cell_type": "code",
   "execution_count": null,
   "metadata": {},
   "outputs": [],
   "source": []
  },
  {
   "cell_type": "code",
   "execution_count": 26,
   "metadata": {},
   "outputs": [],
   "source": [
    "from sklearn.metrics import confusion_matrix, accuracy_score\n",
    "from sklearn.model_selection import train_test_split\n",
    "\n",
    "from sklearn.linear_model import LogisticRegression\n",
    "from sklearn.ensemble import GradientBoostingClassifier\n",
    "from sklearn.svm import SVC\n",
    "\n",
    "def train_model_2(model, *args, **kwargs):\n",
    "    accuracy = {}\n",
    "    \n",
    "    for n in range(8, 129, 8):\n",
    "        x, y = data['signed'][n]\n",
    "        x_train, x_test, y_train, y_test = train_test_split(x, y, test_size=0.9)\n",
    "        \n",
    "        m = model(*args, **kwargs)\n",
    "        m.fit(x_train, y_train)\n",
    "\n",
    "        y_pred = m.predict(x_test)\n",
    "        accuracy[n] = accuracy_score(y_test, y_pred)\n",
    "        print(n)\n",
    "    \n",
    "    return accuracy"
   ]
  },
  {
   "cell_type": "code",
   "execution_count": 11,
   "metadata": {},
   "outputs": [],
   "source": [
    "models_1 = {}"
   ]
  },
  {
   "cell_type": "code",
   "execution_count": 12,
   "metadata": {},
   "outputs": [
    {
     "name": "stdout",
     "output_type": "stream",
     "text": [
      "8\n",
      "16\n",
      "24\n",
      "32\n",
      "40\n",
      "48\n",
      "56\n",
      "64\n",
      "72\n",
      "80\n",
      "88\n",
      "96\n",
      "104\n",
      "112\n",
      "120\n",
      "128\n"
     ]
    }
   ],
   "source": [
    "models_1[\"Logistic Regiression\"] = train_model_2(LogisticRegression)"
   ]
  },
  {
   "cell_type": "code",
   "execution_count": 27,
   "metadata": {},
   "outputs": [
    {
     "name": "stdout",
     "output_type": "stream",
     "text": [
      "8\n",
      "16\n",
      "24\n",
      "32\n",
      "40\n",
      "48\n",
      "56\n",
      "64\n",
      "72\n",
      "80\n",
      "88\n",
      "96\n",
      "104\n",
      "112\n",
      "120\n",
      "128\n"
     ]
    }
   ],
   "source": [
    "models_1[\"SVM\"] = train_model_2(SVC, kernel='linear')"
   ]
  },
  {
   "cell_type": "code",
   "execution_count": 14,
   "metadata": {},
   "outputs": [
    {
     "name": "stdout",
     "output_type": "stream",
     "text": [
      "8\n",
      "16\n",
      "24\n",
      "32\n",
      "40\n",
      "48\n",
      "56\n",
      "64\n",
      "72\n",
      "80\n",
      "88\n",
      "96\n",
      "104\n",
      "112\n",
      "120\n",
      "128\n"
     ]
    }
   ],
   "source": [
    "models_1[\"Gradient Boosting\"] = train_model_2(GradientBoostingClassifier)"
   ]
  },
  {
   "cell_type": "code",
   "execution_count": 1,
   "metadata": {},
   "outputs": [
    {
     "ename": "NameError",
     "evalue": "name 'plt' is not defined",
     "output_type": "error",
     "traceback": [
      "\u001b[0;31m---------------------------------------------------------------------------\u001b[0m",
      "\u001b[0;31mNameError\u001b[0m                                 Traceback (most recent call last)",
      "\u001b[0;32m<ipython-input-1-e6dd4f02d910>\u001b[0m in \u001b[0;36m<module>\u001b[0;34m\u001b[0m\n\u001b[0;32m----> 1\u001b[0;31m \u001b[0mplt\u001b[0m\u001b[0;34m.\u001b[0m\u001b[0mrcParams\u001b[0m\u001b[0;34m[\u001b[0m\u001b[0;34m'font.size'\u001b[0m\u001b[0;34m]\u001b[0m \u001b[0;34m=\u001b[0m \u001b[0;36m15\u001b[0m\u001b[0;34m\u001b[0m\u001b[0m\n\u001b[0m\u001b[1;32m      2\u001b[0m \u001b[0mplt\u001b[0m\u001b[0;34m.\u001b[0m\u001b[0mrcParams\u001b[0m\u001b[0;34m[\u001b[0m\u001b[0;34m'font.weight'\u001b[0m\u001b[0;34m]\u001b[0m \u001b[0;34m=\u001b[0m \u001b[0;36m100\u001b[0m\u001b[0;34m\u001b[0m\u001b[0m\n\u001b[1;32m      3\u001b[0m \u001b[0;34m\u001b[0m\u001b[0m\n\u001b[1;32m      4\u001b[0m \u001b[0mfig\u001b[0m\u001b[0;34m,\u001b[0m \u001b[0max\u001b[0m \u001b[0;34m=\u001b[0m \u001b[0mplt\u001b[0m\u001b[0;34m.\u001b[0m\u001b[0msubplots\u001b[0m\u001b[0;34m(\u001b[0m\u001b[0;34m)\u001b[0m\u001b[0;34m\u001b[0m\u001b[0m\n\u001b[1;32m      5\u001b[0m \u001b[0mfig\u001b[0m\u001b[0;34m.\u001b[0m\u001b[0mset_size_inches\u001b[0m\u001b[0;34m(\u001b[0m\u001b[0;36m15\u001b[0m\u001b[0;34m,\u001b[0m \u001b[0;36m8\u001b[0m\u001b[0;34m)\u001b[0m\u001b[0;34m\u001b[0m\u001b[0m\n",
      "\u001b[0;31mNameError\u001b[0m: name 'plt' is not defined"
     ]
    }
   ],
   "source": [
    "plt.rcParams['font.size'] = 15\n",
    "plt.rcParams['font.weight'] = 100\n",
    "\n",
    "fig, ax = plt.subplots()\n",
    "fig.set_size_inches(15, 8)\n",
    "\n",
    "for (model_name, result), marker in zip(models_1.items(), ['o', '', '^']):\n",
    "    ax.plot(\n",
    "        result.keys(), \n",
    "        result.values(), \n",
    "        '-{}'.format(marker), \n",
    "        markersize=10, \n",
    "        label=model_name, \n",
    "        linewidth=2\n",
    "    )\n",
    "    ax.set_xticks(list(result.keys()))\n",
    "    ax.set_xticklabels(list(result.keys()))\n",
    "\n",
    "ax.axhline(1, ls='--', color='brown', linewidth=2, alpha=0.5)\n",
    "ax.axhline(0.95, ls='--', color='purple', linewidth=2, alpha=0.5)\n",
    "    \n",
    "ax.set(xlabel='Challenge length', ylabel='Accuracy')\n",
    "ax.set_yticks(np.arange(0.8, 1.01, 0.02))\n",
    "    \n",
    "ax.grid()\n",
    "ax.legend(loc='lower center')\n",
    "plt.show()"
   ]
  },
  {
   "cell_type": "code",
   "execution_count": null,
   "metadata": {},
   "outputs": [],
   "source": []
  }
 ],
 "metadata": {
  "kernelspec": {
   "display_name": "Python 3",
   "language": "python",
   "name": "python3"
  },
  "language_info": {
   "codemirror_mode": {
    "name": "ipython",
    "version": 3
   },
   "file_extension": ".py",
   "mimetype": "text/x-python",
   "name": "python",
   "nbconvert_exporter": "python",
   "pygments_lexer": "ipython3",
   "version": "3.6.4"
  }
 },
 "nbformat": 4,
 "nbformat_minor": 2
}
