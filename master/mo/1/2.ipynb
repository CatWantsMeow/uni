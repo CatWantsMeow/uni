{
 "cells": [
  {
   "cell_type": "code",
   "execution_count": 2,
   "metadata": {},
   "outputs": [],
   "source": [
    "import numpy as np\n",
    "import itertools\n",
    "import hashlib"
   ]
  },
  {
   "cell_type": "code",
   "execution_count": 42,
   "metadata": {},
   "outputs": [],
   "source": [
    "a = np.array([[1, 2, 3], [1, 2, 3]])"
   ]
  },
  {
   "cell_type": "code",
   "execution_count": 49,
   "metadata": {},
   "outputs": [
    {
     "data": {
      "text/plain": [
       "array([[1, 2, 3],\n",
       "       [1, 2, 3]])"
      ]
     },
     "execution_count": 49,
     "metadata": {},
     "output_type": "execute_result"
    }
   ],
   "source": []
  },
  {
   "cell_type": "code",
   "execution_count": 10,
   "metadata": {},
   "outputs": [],
   "source": [
    "from jupyterthemes import jtplot\n",
    "jtplot.style()"
   ]
  },
  {
   "cell_type": "code",
   "execution_count": 11,
   "metadata": {},
   "outputs": [],
   "source": [
    "def read_data(n, k):\n",
    "    chs = np.zeros((k, n), dtype=np.int8)\n",
    "    rsps = np.zeros(k, dtype=np.int8)\n",
    "    \n",
    "    with open('data/raw/Base{}.txt'.format(n), 'r') as f:\n",
    "        for i, line in enumerate(itertools.islice(f, k)):\n",
    "            ch, rsp = line.split(' ')\n",
    "            for j, e in enumerate(ch):\n",
    "                chs[i, j] = int(e)\n",
    "            rsps[i] = int(rsp)\n",
    "            \n",
    "    return chs, rsps\n",
    "\n",
    "def to_signed(x):\n",
    "    p = np.zeros_like(x, dtype=np.int8)\n",
    "    x = 1 - 2 * x\n",
    "    \n",
    "    p[0] = x[0]\n",
    "    for i in range(1, len(x)):\n",
    "        p[i] = p[i - 1] * x[i]\n",
    "    return p"
   ]
  },
  {
   "cell_type": "code",
   "execution_count": null,
   "metadata": {},
   "outputs": [],
   "source": []
  },
  {
   "cell_type": "code",
   "execution_count": 12,
   "metadata": {},
   "outputs": [],
   "source": [
    "data = {\n",
    "    \"raw\": {},\n",
    "    \"signed\": {},\n",
    "}"
   ]
  },
  {
   "cell_type": "code",
   "execution_count": 13,
   "metadata": {
    "scrolled": false
   },
   "outputs": [
    {
     "name": "stdout",
     "output_type": "stream",
     "text": [
      "8\n",
      "16\n",
      "24\n",
      "32\n",
      "40\n",
      "48\n",
      "56\n",
      "64\n",
      "72\n",
      "80\n",
      "88\n",
      "96\n",
      "104\n",
      "112\n",
      "120\n",
      "128\n"
     ]
    }
   ],
   "source": [
    "for n in range(8, 129, 8):\n",
    "    data['raw'][n] = read_data(n, 10 ** 3)\n",
    "    print(n)"
   ]
  },
  {
   "cell_type": "code",
   "execution_count": 14,
   "metadata": {
    "scrolled": true
   },
   "outputs": [
    {
     "name": "stdout",
     "output_type": "stream",
     "text": [
      "8\n",
      "16\n",
      "24\n",
      "32\n",
      "40\n",
      "48\n",
      "56\n",
      "64\n",
      "72\n",
      "80\n",
      "88\n",
      "96\n",
      "104\n",
      "112\n",
      "120\n",
      "128\n"
     ]
    }
   ],
   "source": [
    "for n in range(8, 129, 8):\n",
    "    x, y = data['raw'][n]\n",
    "    data['signed'][n] = ([to_signed(e) for e in x], y)\n",
    "    print(n)"
   ]
  },
  {
   "cell_type": "code",
   "execution_count": null,
   "metadata": {},
   "outputs": [],
   "source": []
  },
  {
   "cell_type": "code",
   "execution_count": 15,
   "metadata": {
    "scrolled": true
   },
   "outputs": [
    {
     "name": "stderr",
     "output_type": "stream",
     "text": [
      "/usr/local/lib/python3.6/site-packages/sklearn/ensemble/weight_boosting.py:29: DeprecationWarning: numpy.core.umath_tests is an internal NumPy module and should not be imported. It will be removed in a future NumPy release.\n",
      "  from numpy.core.umath_tests import inner1d\n"
     ]
    }
   ],
   "source": [
    "from sklearn.metrics import confusion_matrix, accuracy_score\n",
    "from sklearn.model_selection import train_test_split\n",
    "\n",
    "from sklearn.linear_model import LogisticRegression\n",
    "from sklearn.ensemble import GradientBoostingClassifier\n",
    "from sklearn.svm import SVC\n",
    "\n",
    "def train_model_1(model, x_train, x_test, y_train, y_test, *args, **kwargs):\n",
    "    accuracy = {}\n",
    "    \n",
    "    nn = np.log2(len(x_train))\n",
    "    nn = [int(2 ** n) for n in np.arange(4, int(nn) + 1.5, 0.8)]\n",
    "    for n in nn:\n",
    "        m = model(*args, **kwargs)\n",
    "        m.fit(x_train[:n], y_train[:n])\n",
    "\n",
    "        y_pred = m.predict(x_test)\n",
    "        accuracy[n] = accuracy_score(y_test, y_pred)\n",
    "        print(n)\n",
    "        \n",
    "    return accuracy"
   ]
  },
  {
   "cell_type": "code",
   "execution_count": 16,
   "metadata": {},
   "outputs": [],
   "source": [
    "from collections import defaultdict\n",
    "\n",
    "models = defaultdict(dict)"
   ]
  },
  {
   "cell_type": "code",
   "execution_count": 17,
   "metadata": {},
   "outputs": [],
   "source": [
    "x, y = data['signed'][128]\n",
    "x_train, x_test, y_train, y_test = train_test_split(x, y, test_size=0.9)"
   ]
  },
  {
   "cell_type": "code",
   "execution_count": 18,
   "metadata": {},
   "outputs": [
    {
     "name": "stdout",
     "output_type": "stream",
     "text": [
      "16\n",
      "27\n",
      "48\n",
      "84\n",
      "147\n"
     ]
    }
   ],
   "source": [
    "models[128][\"Logistic Regiression\"] = train_model_1(LogisticRegression, x_train, x_test, y_train, y_test)"
   ]
  },
  {
   "cell_type": "code",
   "execution_count": 19,
   "metadata": {},
   "outputs": [
    {
     "name": "stdout",
     "output_type": "stream",
     "text": [
      "16\n",
      "27\n",
      "48\n",
      "84\n",
      "147\n"
     ]
    }
   ],
   "source": [
    "models[128][\"SVM\"] = train_model_1(SVC, x_train, x_test, y_train, y_test, kernel='linear')"
   ]
  },
  {
   "cell_type": "code",
   "execution_count": 20,
   "metadata": {},
   "outputs": [
    {
     "name": "stdout",
     "output_type": "stream",
     "text": [
      "16\n",
      "27\n",
      "48\n",
      "84\n",
      "147\n"
     ]
    }
   ],
   "source": [
    "models[128][\"Gradient Boosting\"] = train_model_1(GradientBoostingClassifier, x_train, x_test, y_train, y_test)"
   ]
  },
  {
   "cell_type": "code",
   "execution_count": 21,
   "metadata": {},
   "outputs": [
    {
     "data": {
      "text/plain": [
       "<Figure size 1080x1440 with 0 Axes>"
      ]
     },
     "metadata": {},
     "output_type": "display_data"
    }
   ],
   "source": [
    "import matplotlib\n",
    "from matplotlib import pyplot as plt\n",
    "\n",
    "%matplotlib inline\n",
    "\n",
    "plt.rcParams['font.size'] = 15\n",
    "plt.rcParams['font.weight'] = 100\n",
    "\n",
    "fig = plt.figure()\n",
    "fig.set_size_inches(15, 20)\n",
    "\n",
    "plot_data = models[64]\n",
    "for i, ((model_name, result), marker) in enumerate(zip(plot_data.items(), ['o', 's', '^'])):\n",
    "    ax = fig.add_subplot(len(plot_data), 1, i + 1)\n",
    "    \n",
    "    ax.set(xlabel='Training Set Size', ylabel='Accuracy')\n",
    "    ax.set_xscale('log')\n",
    "    ax.set_yticks(np.arange(0.5, 1.04, 0.05))\n",
    "\n",
    "    ax.axhline(0.95, ls='--', color='purple', linewidth=2, alpha=0.5)\n",
    "    ax.axhline(1, ls='--', color='brown', linewidth=2, alpha=0.5)\n",
    "    ax.plot(\n",
    "        result.keys(), \n",
    "        result.values(), \n",
    "        '-{}'.format(marker),\n",
    "        markersize=10,\n",
    "        label=model_name, \n",
    "        linewidth=2\n",
    "    )\n",
    "    ax.set_xticks(list(result.keys())[::2])\n",
    "    ax.set_xticklddabels(list(result.keys())[::2])\n",
    "\n",
    "    ax.grid()\n",
    "    ax.legend(loc='lower center')\n",
    "    \n",
    "plt.show()"
   ]
  },
  {
   "cell_type": "code",
   "execution_count": 1,
   "metadata": {},
   "outputs": [
    {
     "ename": "NameError",
     "evalue": "name 'plt' is not defined",
     "output_type": "error",
     "traceback": [
      "\u001b[0;31m---------------------------------------------------------------------------\u001b[0m",
      "\u001b[0;31mNameError\u001b[0m                                 Traceback (most recent call last)",
      "\u001b[0;32m<ipython-input-1-a781b912d48e>\u001b[0m in \u001b[0;36m<module>\u001b[0;34m\u001b[0m\n\u001b[0;32m----> 1\u001b[0;31m \u001b[0mplt\u001b[0m\u001b[0;34m.\u001b[0m\u001b[0mrcParams\u001b[0m\u001b[0;34m[\u001b[0m\u001b[0;34m'font.size'\u001b[0m\u001b[0;34m]\u001b[0m \u001b[0;34m=\u001b[0m \u001b[0;36m15\u001b[0m\u001b[0;34m\u001b[0m\u001b[0m\n\u001b[0m\u001b[1;32m      2\u001b[0m \u001b[0mplt\u001b[0m\u001b[0;34m.\u001b[0m\u001b[0mrcParams\u001b[0m\u001b[0;34m[\u001b[0m\u001b[0;34m'font.weight'\u001b[0m\u001b[0;34m]\u001b[0m \u001b[0;34m=\u001b[0m \u001b[0;36m100\u001b[0m\u001b[0;34m\u001b[0m\u001b[0m\n\u001b[1;32m      3\u001b[0m \u001b[0;34m\u001b[0m\u001b[0m\n\u001b[1;32m      4\u001b[0m \u001b[0mfig\u001b[0m \u001b[0;34m=\u001b[0m \u001b[0mplt\u001b[0m\u001b[0;34m.\u001b[0m\u001b[0mfigure\u001b[0m\u001b[0;34m(\u001b[0m\u001b[0;34m)\u001b[0m\u001b[0;34m\u001b[0m\u001b[0m\n\u001b[1;32m      5\u001b[0m \u001b[0mfig\u001b[0m\u001b[0;34m.\u001b[0m\u001b[0mset_size_inches\u001b[0m\u001b[0;34m(\u001b[0m\u001b[0;36m15\u001b[0m\u001b[0;34m,\u001b[0m \u001b[0;36m20\u001b[0m\u001b[0;34m)\u001b[0m\u001b[0;34m\u001b[0m\u001b[0m\n",
      "\u001b[0;31mNameError\u001b[0m: name 'plt' is not defined"
     ]
    }
   ],
   "source": [
    "plt.rcParams['font.size'] = 15\n",
    "plt.rcParams['font.weight'] = 100\n",
    "\n",
    "fig = plt.figure()\n",
    "fig.set_size_inches(15, 20)\n",
    "\n",
    "plot_data = models[128]\n",
    "for i, ((model_name, result), marker) in enumerate(zip(plot_data.items(), ['o', 's', '^'])):\n",
    "    ax = fig.add_subplot(len(plot_data), 1, i + 1)\n",
    "    \n",
    "    ax.set(xlabel='Training Set Size', ylabel='Accuracy')\n",
    "    ax.set_xscale('log')\n",
    "    ax.set_yticks(np.arange(0.5, 1.04, 0.05))\n",
    "\n",
    "    ax.axhline(0.95, ls='--', color='purple', linewidth=2, alpha=0.5)\n",
    "    ax.axhline(1, ls='--', color='brown', linewidth=2, alpha=0.5)\n",
    "    ax.plot(\n",
    "        result.keys(), \n",
    "        result.values(), \n",
    "        '-{}'.format(marker),\n",
    "        markersize=10,\n",
    "        label=model_name, \n",
    "        linewidth=2\n",
    "    )\n",
    "    ax.set_xticks(list(result.keys())[::2])\n",
    "    ax.set_xticklabels(list(result.keys())[::2])\n",
    "\n",
    "    ax.grid()\n",
    "    ax.legend(loc='lower center')\n",
    "\n",
    "plt.show()"
   ]
  },
  {
   "cell_type": "code",
   "execution_count": null,
   "metadata": {},
   "outputs": [],
   "source": []
  },
  {
   "cell_type": "code",
   "execution_count": 47,
   "metadata": {},
   "outputs": [],
   "source": [
    "def train_model_2(model, *args, **kwargs):\n",
    "    accuracy = {}\n",
    "    \n",
    "    for n in range(8, 129, 8):\n",
    "        x, y = data['signed'][n]\n",
    "        x_train, x_test, y_train, y_test = train_test_split(x, y, test_size=0.9)\n",
    "        \n",
    "        m = model(*args, **kwargs)\n",
    "        m.fit(x_train, y_train)\n",
    "\n",
    "        y_pred = m.predict(x_test)\n",
    "        accuracy[n] = accuracy_score(y_test, y_pred)\n",
    "        print(n)\n",
    "    \n",
    "    return accuracy"
   ]
  },
  {
   "cell_type": "code",
   "execution_count": 81,
   "metadata": {},
   "outputs": [],
   "source": [
    "models_1 = {}"
   ]
  },
  {
   "cell_type": "code",
   "execution_count": 82,
   "metadata": {},
   "outputs": [
    {
     "name": "stdout",
     "output_type": "stream",
     "text": [
      "8\n",
      "16\n",
      "24\n",
      "32\n",
      "40\n",
      "48\n",
      "56\n",
      "64\n",
      "72\n",
      "80\n",
      "88\n",
      "96\n",
      "104\n",
      "112\n",
      "120\n",
      "128\n"
     ]
    }
   ],
   "source": [
    "models_1[\"Logistic Regiression\"] = train_model_2(LogisticRegression)"
   ]
  },
  {
   "cell_type": "code",
   "execution_count": 83,
   "metadata": {},
   "outputs": [
    {
     "name": "stdout",
     "output_type": "stream",
     "text": [
      "8\n",
      "16\n",
      "24\n",
      "32\n",
      "40\n",
      "48\n",
      "56\n",
      "64\n",
      "72\n",
      "80\n",
      "88\n",
      "96\n",
      "104\n",
      "112\n",
      "120\n",
      "128\n"
     ]
    }
   ],
   "source": [
    "models_1[\"SVM\"] = train_model_2(SVC, kernel='linear')"
   ]
  },
  {
   "cell_type": "code",
   "execution_count": 84,
   "metadata": {},
   "outputs": [
    {
     "name": "stdout",
     "output_type": "stream",
     "text": [
      "8\n",
      "16\n",
      "24\n",
      "32\n",
      "40\n",
      "48\n",
      "56\n",
      "64\n",
      "72\n",
      "80\n",
      "88\n",
      "96\n",
      "104\n",
      "112\n",
      "120\n",
      "128\n"
     ]
    }
   ],
   "source": [
    "models_1[\"Gradient Boosting\"] = train_model_2(GradientBoostingClassifier)"
   ]
  },
  {
   "cell_type": "code",
   "execution_count": 87,
   "metadata": {},
   "outputs": [
    {
     "data": {
      "image/png": "[encoded data removed]",
      "text/plain": [
       "<Figure size 1080x1440 with 3 Axes>"
      ]
     },
     "metadata": {},
     "output_type": "display_data"
    }
   ],
   "source": [
    "plt.rcParams['font.size'] = 15\n",
    "plt.rcParams['font.weight'] = 100\n",
    "\n",
    "fig = plt.figure()\n",
    "fig.set_size_inches(15, 20)\n",
    "\n",
    "plot_data = models_1\n",
    "for i, ((model_name, result), marker) in enumerate(zip(plot_data.items(), ['o', 's', 'p'])):\n",
    "    ax = fig.add_subplot(len(plot_data), 1, i + 1)\n",
    "    \n",
    "    ax.plot(\n",
    "        result.keys(), \n",
    "        result.values(), \n",
    "        '-{}'.format(marker), \n",
    "        markersize=10, \n",
    "        label=model_name, \n",
    "        linewidth=2\n",
    "    )\n",
    "    ax.set_xticks(list(result.keys()))\n",
    "    ax.set_xticklabels(list(result.keys()))\n",
    "    \n",
    "\n",
    "    ax.axhline(1, ls='--', color='brown', linewidth=2, alpha=0.5)\n",
    "    ax.axhline(0.95, ls='--', color='purple', linewidth=2, alpha=0.5)\n",
    "\n",
    "    ax.set(xlabel='Challenge length', ylabel='Accuracy')\n",
    "    ax.set_yticks(np.arange(0.8, 1.01, 0.02))\n",
    "    \n",
    "    ax.grid()\n",
    "    ax.legend(loc='lower center')\n",
    "    \n",
    "plt.show()"
   ]
  },
  {
   "cell_type": "code",
   "execution_count": null,
   "metadata": {},
   "outputs": [],
   "source": []
  },
  {
   "cell_type": "code",
   "execution_count": null,
   "metadata": {},
   "outputs": [],
   "source": []
  },
  {
   "cell_type": "code",
   "execution_count": null,
   "metadata": {},
   "outputs": [],
   "source": []
  }
 ],
 "metadata": {
  "kernelspec": {
   "display_name": "Python 3",
   "language": "python",
   "name": "python3"
  },
  "language_info": {
   "codemirror_mode": {
    "name": "ipython",
    "version": 3
   },
   "file_extension": ".py",
   "mimetype": "text/x-python",
   "name": "python",
   "nbconvert_exporter": "python",
   "pygments_lexer": "ipython3",
   "version": "3.6.4"
  }
 },
 "nbformat": 4,
 "nbformat_minor": 2
}
