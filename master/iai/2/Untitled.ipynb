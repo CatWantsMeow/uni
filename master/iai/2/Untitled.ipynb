{
 "cells": [
  {
   "cell_type": "code",
   "execution_count": 42,
   "metadata": {},
   "outputs": [],
   "source": [
    "import os\n",
    "import random\n",
    "\n",
    "import numpy as np\n",
    "from PIL import Image"
   ]
  },
  {
   "cell_type": "code",
   "execution_count": 247,
   "metadata": {},
   "outputs": [],
   "source": [
    "width = 128\n",
    "heigth = 128\n",
    "channels = 1\n",
    "\n",
    "def read_images(directory, k):\n",
    "    images = []\n",
    "    labels = []\n",
    "    \n",
    "    filenames = os.listdir(directory)\n",
    "    random.shuffle(filenames)\n",
    "    \n",
    "    for filename in filenames[:k]:\n",
    "        img = Image.open(os.path.join(directory, filename)).resize((width, heigth))\n",
    "        images.append(np.array(img))\n",
    "        labels.append(0 if 'cat' in filename else 1)\n",
    "    return np.array(images, dtype=np.uint8), np.array(labels, dtype=np.uint8)"
   ]
  },
  {
   "cell_type": "code",
   "execution_count": 248,
   "metadata": {},
   "outputs": [],
   "source": [
    "x, y = read_images('./data/train', 10000)"
   ]
  },
  {
   "cell_type": "code",
   "execution_count": 249,
   "metadata": {},
   "outputs": [
    {
     "data": {
      "text/plain": [
       "(10000, 128, 128, 3)"
      ]
     },
     "execution_count": 249,
     "metadata": {},
     "output_type": "execute_result"
    }
   ],
   "source": [
    "x = x / 255.0\n",
    "x.shape"
   ]
  },
  {
   "cell_type": "code",
   "execution_count": 250,
   "metadata": {},
   "outputs": [],
   "source": [
    "from keras.models import Sequential\n",
    "from keras.layers import Conv2D, Dense, MaxPooling2D, Flatten, Dropout, Activation\n",
    "from keras.callbacks import EarlyStopping"
   ]
  },
  {
   "cell_type": "code",
   "execution_count": 251,
   "metadata": {},
   "outputs": [
    {
     "name": "stdout",
     "output_type": "stream",
     "text": [
      "_________________________________________________________________\n",
      "Layer (type)                 Output Shape              Param #   \n",
      "=================================================================\n",
      "conv2d_210 (Conv2D)          (None, 128, 128, 8)       224       \n",
      "_________________________________________________________________\n",
      "max_pooling2d_194 (MaxPoolin (None, 64, 64, 8)         0         \n",
      "_________________________________________________________________\n",
      "conv2d_211 (Conv2D)          (None, 64, 64, 16)        1168      \n",
      "_________________________________________________________________\n",
      "max_pooling2d_195 (MaxPoolin (None, 32, 32, 16)        0         \n",
      "_________________________________________________________________\n",
      "conv2d_212 (Conv2D)          (None, 32, 32, 32)        4640      \n",
      "_________________________________________________________________\n",
      "max_pooling2d_196 (MaxPoolin (None, 16, 16, 32)        0         \n",
      "_________________________________________________________________\n",
      "conv2d_213 (Conv2D)          (None, 16, 16, 64)        18496     \n",
      "_________________________________________________________________\n",
      "max_pooling2d_197 (MaxPoolin (None, 8, 8, 64)          0         \n",
      "_________________________________________________________________\n",
      "flatten_60 (Flatten)         (None, 4096)              0         \n",
      "_________________________________________________________________\n",
      "dense_133 (Dense)            (None, 64)                262208    \n",
      "_________________________________________________________________\n",
      "dropout_72 (Dropout)         (None, 64)                0         \n",
      "_________________________________________________________________\n",
      "dense_134 (Dense)            (None, 1)                 65        \n",
      "=================================================================\n",
      "Total params: 286,801\n",
      "Trainable params: 286,801\n",
      "Non-trainable params: 0\n",
      "_________________________________________________________________\n"
     ]
    }
   ],
   "source": [
    "model = Sequential()\n",
    "\n",
    "model.add(Conv2D(8, (3, 3), input_shape=x[0].shape, activation='relu', padding='same'))\n",
    "model.add(MaxPooling2D())\n",
    "\n",
    "model.add(Conv2D(16, (3, 3), activation='relu', padding='same'))\n",
    "model.add(MaxPooling2D())\n",
    "\n",
    "model.add(Conv2D(32, (3, 3), activation='relu', padding='same'))\n",
    "model.add(MaxPooling2D())\n",
    "\n",
    "model.add(Conv2D(64, (3, 3), activation='relu', padding='same'))\n",
    "model.add(MaxPooling2D())\n",
    "\n",
    "model.add(Flatten())\n",
    "model.add(Dense(64, activation=\"relu\"))\n",
    "model.add(Dropout(0.5))\n",
    "model.add(Dense(1, activation=\"sigmoid\"))\n",
    "\n",
    "model.compile(loss='binary_crossentropy', optimizer='adam', metrics=['accuracy'])\n",
    "model.summary()"
   ]
  },
  {
   "cell_type": "code",
   "execution_count": 252,
   "metadata": {
    "scrolled": true
   },
   "outputs": [
    {
     "name": "stdout",
     "output_type": "stream",
     "text": [
      "Train on 8000 samples, validate on 2000 samples\n",
      "Epoch 1/100\n",
      "8000/8000 [==============================] - 208s 26ms/step - loss: 0.6693 - acc: 0.5825 - val_loss: 0.6449 - val_acc: 0.6230\n",
      "Epoch 2/100\n",
      "8000/8000 [==============================] - 143s 18ms/step - loss: 0.6055 - acc: 0.6739 - val_loss: 0.5620 - val_acc: 0.7215\n",
      "Epoch 3/100\n",
      "8000/8000 [==============================] - 159s 20ms/step - loss: 0.5576 - acc: 0.7163 - val_loss: 0.5830 - val_acc: 0.6960\n",
      "Epoch 4/100\n",
      "8000/8000 [==============================] - 128s 16ms/step - loss: 0.5321 - acc: 0.7284 - val_loss: 0.5152 - val_acc: 0.7515\n",
      "Epoch 5/100\n",
      "8000/8000 [==============================] - 150s 19ms/step - loss: 0.5048 - acc: 0.7535 - val_loss: 0.4951 - val_acc: 0.7615\n",
      "Epoch 6/100\n",
      "8000/8000 [==============================] - 113s 14ms/step - loss: 0.4833 - acc: 0.7686 - val_loss: 0.4859 - val_acc: 0.7760\n",
      "Epoch 7/100\n",
      "8000/8000 [==============================] - 147s 18ms/step - loss: 0.4652 - acc: 0.7798 - val_loss: 0.4800 - val_acc: 0.7730\n",
      "Epoch 8/100\n",
      "8000/8000 [==============================] - 143s 18ms/step - loss: 0.4401 - acc: 0.8007 - val_loss: 0.4571 - val_acc: 0.7925\n",
      "Epoch 9/100\n",
      "8000/8000 [==============================] - 155s 19ms/step - loss: 0.4125 - acc: 0.8134 - val_loss: 0.4424 - val_acc: 0.7960\n",
      "Epoch 10/100\n",
      "8000/8000 [==============================] - 285s 36ms/step - loss: 0.3902 - acc: 0.8256 - val_loss: 0.4490 - val_acc: 0.7885\n",
      "Epoch 11/100\n",
      "5248/8000 [==================>...........] - ETA: 1:46 - loss: 0.3793 - acc: 0.8327"
     ]
    },
    {
     "name": "stderr",
     "output_type": "stream",
     "text": [
      "ERROR:root:Internal Python error in the inspect module.\n",
      "Below is the traceback from this internal error.\n",
      "\n"
     ]
    },
    {
     "name": "stdout",
     "output_type": "stream",
     "text": [
      "Traceback (most recent call last):\n",
      "  File \"/usr/local/lib/python3.6/site-packages/IPython/core/interactiveshell.py\", line 3267, in run_code\n",
      "    exec(code_obj, self.user_global_ns, self.user_ns)\n",
      "  File \"<ipython-input-252-f8fa4c75c215>\", line 7, in <module>\n",
      "    callbacks=[early_stopping]\n",
      "  File \"/usr/local/lib/python3.6/site-packages/keras/engine/training.py\", line 1037, in fit\n",
      "    validation_steps=validation_steps)\n",
      "  File \"/usr/local/lib/python3.6/site-packages/keras/engine/training_arrays.py\", line 199, in fit_loop\n",
      "    outs = f(ins_batch)\n",
      "  File \"/usr/local/lib/python3.6/site-packages/keras/backend/tensorflow_backend.py\", line 2666, in __call__\n",
      "    return self._call(inputs)\n",
      "  File \"/usr/local/lib/python3.6/site-packages/keras/backend/tensorflow_backend.py\", line 2636, in _call\n",
      "    fetched = self._callable_fn(*array_vals)\n",
      "  File \"/usr/local/lib/python3.6/site-packages/tensorflow/python/client/session.py\", line 1382, in __call__\n",
      "    run_metadata_ptr)\n",
      "KeyboardInterrupt\n",
      "\n",
      "During handling of the above exception, another exception occurred:\n",
      "\n",
      "Traceback (most recent call last):\n",
      "  File \"/usr/local/lib/python3.6/site-packages/IPython/core/interactiveshell.py\", line 2018, in showtraceback\n",
      "    stb = value._render_traceback_()\n",
      "AttributeError: 'KeyboardInterrupt' object has no attribute '_render_traceback_'\n",
      "\n",
      "During handling of the above exception, another exception occurred:\n",
      "\n",
      "Traceback (most recent call last):\n",
      "  File \"/usr/local/lib/python3.6/site-packages/IPython/core/ultratb.py\", line 1095, in get_records\n",
      "    return _fixed_getinnerframes(etb, number_of_lines_of_context, tb_offset)\n",
      "  File \"/usr/local/lib/python3.6/site-packages/IPython/core/ultratb.py\", line 313, in wrapped\n",
      "    return f(*args, **kwargs)\n",
      "  File \"/usr/local/lib/python3.6/site-packages/IPython/core/ultratb.py\", line 347, in _fixed_getinnerframes\n",
      "    records = fix_frame_records_filenames(inspect.getinnerframes(etb, context))\n",
      "  File \"/usr/local/Cellar/python/3.6.4_4/Frameworks/Python.framework/Versions/3.6/lib/python3.6/inspect.py\", line 1483, in getinnerframes\n",
      "    frameinfo = (tb.tb_frame,) + getframeinfo(tb, context)\n",
      "  File \"/usr/local/Cellar/python/3.6.4_4/Frameworks/Python.framework/Versions/3.6/lib/python3.6/inspect.py\", line 1441, in getframeinfo\n",
      "    filename = getsourcefile(frame) or getfile(frame)\n",
      "  File \"/usr/local/Cellar/python/3.6.4_4/Frameworks/Python.framework/Versions/3.6/lib/python3.6/inspect.py\", line 696, in getsourcefile\n",
      "    if getattr(getmodule(object, filename), '__loader__', None) is not None:\n",
      "  File \"/usr/local/Cellar/python/3.6.4_4/Frameworks/Python.framework/Versions/3.6/lib/python3.6/inspect.py\", line 732, in getmodule\n",
      "    for modname, module in list(sys.modules.items()):\n",
      "KeyboardInterrupt\n"
     ]
    },
    {
     "ename": "KeyboardInterrupt",
     "evalue": "",
     "output_type": "error",
     "traceback": [
      "\u001b[0;31m---------------------------------------------------------------------------\u001b[0m"
     ]
    }
   ],
   "source": [
    "early_stopping = EarlyStopping(monitor='val_loss', patience=5)   \n",
    "history = model.fit(\n",
    "    x, y,\n",
    "    batch_size=128,\n",
    "    epochs=100, \n",
    "    validation_split=0.2,\n",
    "    callbacks=[early_stopping]\n",
    ")"
   ]
  },
  {
   "cell_type": "code",
   "execution_count": 187,
   "metadata": {},
   "outputs": [
    {
     "name": "stdout",
     "output_type": "stream",
     "text": [
      "[[0.01016274]\n",
      " [0.9897674 ]\n",
      " [0.00880679]\n",
      " [0.06050279]\n",
      " [0.8132624 ]\n",
      " [0.9962716 ]\n",
      " [0.11523642]\n",
      " [0.9724272 ]\n",
      " [0.8890431 ]\n",
      " [0.9999777 ]] [0 1 0 0 1 1 0 1 1 1]\n"
     ]
    }
   ],
   "source": [
    "print(model.predict(x[:10]), y[:10])"
   ]
  },
  {
   "cell_type": "code",
   "execution_count": 70,
   "metadata": {},
   "outputs": [
    {
     "data": {
      "text/plain": [
       "(64, 64, 3)"
      ]
     },
     "execution_count": 70,
     "metadata": {},
     "output_type": "execute_result"
    }
   ],
   "source": [
    "x[0].shape"
   ]
  },
  {
   "cell_type": "code",
   "execution_count": null,
   "metadata": {},
   "outputs": [],
   "source": []
  }
 ],
 "metadata": {
  "kernelspec": {
   "display_name": "Python 3",
   "language": "python",
   "name": "python3"
  },
  "language_info": {
   "codemirror_mode": {
    "name": "ipython",
    "version": 3
   },
   "file_extension": ".py",
   "mimetype": "text/x-python",
   "name": "python",
   "nbconvert_exporter": "python",
   "pygments_lexer": "ipython3",
   "version": "3.6.4"
  }
 },
 "nbformat": 4,
 "nbformat_minor": 2
}
